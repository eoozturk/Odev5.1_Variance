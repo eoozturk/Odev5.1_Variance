{
  "nbformat": 4,
  "nbformat_minor": 0,
  "metadata": {
    "colab": {
      "name": "Odev5.1_Variance.ipynb",
      "version": "0.3.2",
      "provenance": [],
      "collapsed_sections": [],
      "include_colab_link": true
    },
    "kernelspec": {
      "name": "python3",
      "display_name": "Python 3"
    }
  },
  "cells": [
    {
      "cell_type": "markdown",
      "metadata": {
        "id": "view-in-github",
        "colab_type": "text"
      },
      "source": [
        "<a href=\"https://colab.research.google.com/github/eoozturk/Odev5.1_Variance/blob/master/Odev5_1_Variance.ipynb\" target=\"_parent\"><img src=\"https://colab.research.google.com/assets/colab-badge.svg\" alt=\"Open In Colab\"/></a>"
      ]
    },
    {
      "cell_type": "markdown",
      "metadata": {
        "id": "4sI-peKi6vrm",
        "colab_type": "text"
      },
      "source": [
        "**Soru: Varyans**\n",
        "\n",
        "İçerisinde Kırmızı ve Beyaz kartların bulunduğu bir torbadan 2 kart çekiliyor. Kırmızı kart gelme sayısına ait kesikli olasılık dağılımını ve kesikli olasılık dağılımına ait beklenen değeri \"E[X]\" hesaplayarak Varyansın \"Var[X]\" ne olacağını bulunuz.\n",
        "\n",
        "**Çözüm:**\n",
        "\n",
        "Beyaz Kart: 4 ve Kırmızı Kart: 3 olursa\n",
        "\n",
        "Beyaz-Beyaz Durumu: \n",
        "\n",
        "P(X=0) = 4/7x3/6 = 2/7\n",
        "\n",
        "Beyaz-Kırmızı veya Kırmızı-Beyaz Durumu: \n",
        "\n",
        "P(X=1) = 4/7x3/6 + 3/7x4/6 = 4/7\n",
        "\n",
        "Kırmızı-Kırmızı Durumu: \n",
        "\n",
        "P(X=2) = 3/7x2/6 = 1/7\n",
        "\n",
        "E[X] = ΣxP(X=x) = 0x2/7 + 1x4/7 + 2x1/7 = 6/7\n",
        "\n",
        "E[X^2] = Σx^2 * P(X=x) = (0^2)x2/7 + (1^2)x4/7 + (2^2)x1/7 = 8/7\n",
        "\n",
        "Var[X] = E[X^2] - (E[X])^2 = 8/7 - (6/7)^2 = 20/49\n",
        "\n",
        "**Açıklama:**\n",
        "\n",
        "İki kart çekileceğinden dolayı kartların rengi üç farklı durumda olabilir. Hiç kırmızı olmama durumu P(X=0), bir kırmızı ve bir beyaz kart olma durumu P(X=1), son olarak da iki kartında kırmızı olma durumu P(X=2) hesaplanarak kesikli olasılık dağılımı bulunur. Daha sonra varyansın hesaplanabilmesi için beklenen değer E[X] ve E[X^2] hesaplanır. Son olarak da varyans hesaplama formülü kullanılarak varyans sonucuna ulaşılır."
      ]
    },
    {
      "cell_type": "code",
      "metadata": {
        "id": "vWlJuwQj6u8P",
        "colab_type": "code",
        "outputId": "f467012e-8d36-4d7f-a750-cae6abe872f4",
        "colab": {
          "base_uri": "https://localhost:8080/",
          "height": 230
        }
      },
      "source": [
        "# Emre Ozan Öztürk\n",
        "\n",
        "def varyansHesapla(b,k,t):\n",
        "\n",
        "    pX0= (b/t)*((b-1)/(t-1)) #  Beyaz-Beyaz Gelme Durumu: P(X=0)\n",
        "\n",
        "    pX1=(b/t)*(k/(t-1))+(k/t)*(b/(t-1)) # Beyaz-Kırmızı veya Kırmızı-Beyaz Gelme Durumu: P(X=1)\n",
        "\n",
        "    pX2= (k/t)*((k-1)/(t-1)) # Kırmızı-Kırmızı Gelme Durumu: P(X=2)\n",
        "\n",
        "    EX= (0*pX0)+(1*pX1)+(2*pX2) # Beklenen Değer \"E[X]\" hesabı\n",
        "\n",
        "    EX2= ((0**2)*pX0)+((1**2)*pX1)+((2**2)*pX2) # Varyans Hesabı için E[X^2] Hesabı\n",
        "\n",
        "    VX= EX2 - (EX**2) # Varyans \"Var[X]\" Hesabı\n",
        "\n",
        "    sonucList=[pX0,pX1,pX2,EX,EX2,VX] # Tüm Sonuçların List'e Eklenmesi\n",
        "\n",
        "    return sonucList\n",
        "\n",
        "beyazKart= int(input(\"Beyaz Kart sayısını giriniz: \"))\n",
        "kırmızıKart= int(input(\"Kırmızı Kart sayısını giriniz: \"))\n",
        "topKart= beyazKart+kırmızıKart\n",
        "\n",
        "while beyazKart<=0 or kırmızıKart<=0:\n",
        "\n",
        "    print(\"\\nLütfen kart sayılarını SIFIRDAN veya NEGATİF sayıdan FARKLI giriniz!\")\n",
        "    beyazKart= int(input(\"Beyaz Kart sayısını giriniz: \"))\n",
        "    kırmızıKart= int(input(\"Kırmızı Kart sayısını giriniz: \"))\n",
        "    topKart= beyazKart+kırmızıKart\n",
        "\n",
        "gosterList= varyansHesapla(beyazKart,kırmızıKart,topKart)\n",
        "\n",
        "print(\"\\n\")\n",
        "print(\"Beyaz-Beyaz Durumu: P(X=0) =  \",gosterList[0])\n",
        "print(\"Beyaz-Kırmızı veya Kırmızı-Beyaz Durumu: P(X=1) = \",gosterList[1])\n",
        "print(\"Kırmızı-Kırmızı Durumu: P(X=2) =  \",gosterList[2])\n",
        "print(\"\\n\")\n",
        "print(\"E[X] = ΣxP(X=x) = \",gosterList[3])\n",
        "print(\"E[X^2] = Σx^2*P(X=x) = \",gosterList[4])\n",
        "print(\"Var[X] = E[X^2]-(E[X])^2 = \",gosterList[5])"
      ],
      "execution_count": 1,
      "outputs": [
        {
          "output_type": "stream",
          "text": [
            "Beyaz Kart sayısını giriniz: 4\n",
            "Kırmızı Kart sayısını giriniz: 3\n",
            "\n",
            "\n",
            "Beyaz-Beyaz Durumu: P(X=0) =   0.2857142857142857\n",
            "Beyaz-Kırmızı veya Kırmızı-Beyaz Durumu: P(X=1) =  0.5714285714285714\n",
            "Kırmızı-Kırmızı Durumu: P(X=2) =   0.14285714285714285\n",
            "\n",
            "\n",
            "E[X] = ΣxP(X=x) =  0.8571428571428571\n",
            "E[X^2] = Σx^2*P(X=x) =  1.1428571428571428\n",
            "Var[X] = E[X^2]-(E[X])^2 =  0.40816326530612246\n"
          ],
          "name": "stdout"
        }
      ]
    }
  ]
}